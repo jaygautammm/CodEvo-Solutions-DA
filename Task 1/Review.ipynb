{
 "cells": [
  {
   "cell_type": "code",
   "execution_count": 24,
   "id": "87f3d935",
   "metadata": {},
   "outputs": [],
   "source": [
    "import pandas as pd\n",
    "import nltk\n",
    "from collections import Counter\n",
    "from nltk.corpus import stopwords"
   ]
  },
  {
   "cell_type": "code",
   "execution_count": 4,
   "id": "07965716",
   "metadata": {},
   "outputs": [],
   "source": [
    "file_path = 'reviews.csv'\n",
    "df = pd.read_csv(file_path)"
   ]
  },
  {
   "cell_type": "code",
   "execution_count": 25,
   "id": "ca2f0f41-050f-4913-82c3-ae7150e855e4",
   "metadata": {},
   "outputs": [],
   "source": [
    "stop_words = set(stopwords.words('english'))"
   ]
  },
  {
   "cell_type": "code",
   "execution_count": 26,
   "id": "8d74356c-27a8-41f9-a494-443f4e7674c6",
   "metadata": {},
   "outputs": [],
   "source": [
    "def filter_stopwords(words, stop_words):\n",
    "    return [word for word in words if word.lower() not in stop_words]"
   ]
  },
  {
   "cell_type": "code",
   "execution_count": 17,
   "id": "12fbd821-c397-4ff5-8ccc-70ae88e9dbd0",
   "metadata": {},
   "outputs": [],
   "source": [
    "# Convert ratings to numerical values\n",
    "df['Rating'] = df['Rating'].astype(str)\n",
    "df['rating_number'] = df['Rating'].str.extract(r'(\\d+)').astype(int)"
   ]
  },
  {
   "cell_type": "code",
   "execution_count": 18,
   "id": "ccf19893-8de4-43b2-8c73-22a952737558",
   "metadata": {},
   "outputs": [
    {
     "data": {
      "text/plain": [
       "np.float64(4.441666666666666)"
      ]
     },
     "execution_count": 18,
     "metadata": {},
     "output_type": "execute_result"
    }
   ],
   "source": [
    "# Calculate average rating\n",
    "average_rating = df['rating_number'].mean()\n",
    "average_rating"
   ]
  },
  {
   "cell_type": "code",
   "execution_count": 20,
   "id": "ae1ab550-0c0b-4474-8582-6ea0699c3e7c",
   "metadata": {},
   "outputs": [],
   "source": [
    "# Identify common positive/negative comments\n",
    "positive_comments = df[df['rating_number'] >= 4]['Review']\n",
    "negative_comments = df[df['rating_number'] <= 2]['Review']"
   ]
  },
  {
   "cell_type": "code",
   "execution_count": 21,
   "id": "da0b0cb0-6aa3-485c-ad4d-09755643df46",
   "metadata": {},
   "outputs": [
    {
     "name": "stdout",
     "output_type": "stream",
     "text": [
      "Average Rating: 4.441666666666666\n",
      "Common Positive Comments: [('the', 482), ('and', 464), ('was', 316), ('a', 309), ('to', 228), ('I', 191), ('of', 184), ('for', 129), ('The', 128), ('with', 114)]\n",
      "Common Negative Comments: [('a', 19), ('the', 18), ('and', 17), ('is', 13), ('was', 13), ('to', 10), ('I', 9), ('-', 8), ('with', 8), ('it', 7)]\n"
     ]
    }
   ],
   "source": [
    "from collections import Counter\n",
    "positive_words = Counter(' '.join(positive_comments).split()).most_common(10)\n",
    "negative_words = Counter(' '.join(negative_comments).split()).most_common(10)\n",
    "\n",
    "print(\"Average Rating:\", average_rating)\n",
    "print(\"Common Positive Comments:\", positive_words)\n",
    "print(\"Common Negative Comments:\", negative_words)"
   ]
  },
  {
   "cell_type": "code",
   "execution_count": 27,
   "id": "330f5ea0-8290-40d9-bab3-10736217f768",
   "metadata": {},
   "outputs": [
    {
     "name": "stdout",
     "output_type": "stream",
     "text": [
      "Average Rating: 4.441666666666666\n",
      "Common Positive Comments (Filtered): [('clam', 52), ('chowder', 47), ('seafood', 44), ('good', 44), ('great', 43), ('restaurant', 42), ('crab', 39), ('food', 38), ('bread', 32), ('place', 32)]\n",
      "Common Negative Comments (Filtered): [('-', 8), ('it.', 3), ('waiter', 3), ('water', 3), ('ok.', 3), ('cioppino', 2), ('Oyster', 2), ('spoon.', 2), ('oyster', 2), ('sauce', 2)]\n"
     ]
    }
   ],
   "source": [
    "positive_words_list = ' '.join(positive_comments).split()\n",
    "negative_words_list = ' '.join(negative_comments).split()\n",
    "\n",
    "filtered_positive_words = filter_stopwords(positive_words_list, stop_words)\n",
    "filtered_negative_words = filter_stopwords(negative_words_list, stop_words)\n",
    "\n",
    "positive_words_count = Counter(filtered_positive_words).most_common(10)\n",
    "negative_words_count = Counter(filtered_negative_words).most_common(10)\n",
    "\n",
    "print(\"Average Rating:\", average_rating)\n",
    "print(\"Common Positive Comments (Filtered):\", positive_words_count)\n",
    "print(\"Common Negative Comments (Filtered):\", negative_words_count)"
   ]
  },
  {
   "cell_type": "code",
   "execution_count": null,
   "id": "a0f50bb3-be30-40e9-b194-2ee79d9b6dd3",
   "metadata": {},
   "outputs": [],
   "source": []
  }
 ],
 "metadata": {
  "kernelspec": {
   "display_name": "Python 3 (ipykernel)",
   "language": "python",
   "name": "python3"
  },
  "language_info": {
   "codemirror_mode": {
    "name": "ipython",
    "version": 3
   },
   "file_extension": ".py",
   "mimetype": "text/x-python",
   "name": "python",
   "nbconvert_exporter": "python",
   "pygments_lexer": "ipython3",
   "version": "3.12.6"
  }
 },
 "nbformat": 4,
 "nbformat_minor": 5
}
