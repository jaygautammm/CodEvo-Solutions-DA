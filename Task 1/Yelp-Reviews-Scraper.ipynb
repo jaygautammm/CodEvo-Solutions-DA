{
 "cells": [
  {
   "cell_type": "code",
   "execution_count": 340,
   "id": "4e61daa0",
   "metadata": {},
   "outputs": [],
   "source": [
    "from bs4 import BeautifulSoup\n",
    "import re\n",
    "import requests\n",
    "import time\n",
    "import csv\n",
    "import random"
   ]
  },
  {
   "cell_type": "code",
   "execution_count": 343,
   "id": "75107bc5",
   "metadata": {},
   "outputs": [],
   "source": [
    "reviews = [[\"Name\", \"Rating\", \"Date\", \"Review\"]]\n",
    "user_agents = [\"Mozilla/5.0 (Windows NT 6.3; WOW64) AppleWebKit/537.36 (KHTML, like Gecko) Chrome/31.0.1650.63 Safari/537.36\",\n",
    "\"Mozilla/5.0 (Windows NT 6.3; WOW64; rv:38.0) Gecko/20100101 Firefox/38.0\",\n",
    "\"Mozilla/5.0 (Macintosh; Intel Mac OS X 10_9_5) AppleWebKit/600.4.10 (KHTML, like Gecko) Version/7.1.4 Safari/537.85.13\",\n",
    "\"Mozilla/5.0 (Unknown; Linux x86_64) AppleWebKit/538.1 (KHTML, like Gecko) PhantomJS/2.0.0 Safari/538.1\",\n",
    "\"Mozilla/5.0 (Windows NT 6.3; WOW64; Trident/7.0; Touch; MALNJS; rv:11.0) like Gecko\",\n",
    "\"Mozilla/5.0 (iPad; CPU OS 8_3 like Mac OS X) AppleWebKit/600.1.4 (KHTML, like Gecko) CriOS/45.0.2454.68 Mobile/12F69 Safari/600.1.4\",\n",
    "\"Mozilla/5.0 (Android; Tablet; rv:40.0) Gecko/40.0 Firefox/40.0\",\n",
    "\"Mozilla/5.0 (iPhone; CPU iPhone OS 7_1_2 like Mac OS X) AppleWebKit/537.51.2 (KHTML, like Gecko) Version/7.0 Mobile/11D257 Safari/9537.53\",\n",
    "\"Mozilla/5.0 (Macintosh; Intel Mac OS X 10_10) AppleWebKit/600.2.5 (KHTML, like Gecko) Version/8.0.2 Safari/600.2.5\",\n",
    "\"Mozilla/5.0 (Macintosh; Intel Mac OS X 10_6_8) AppleWebKit/537.36 (KHTML, like Gecko) Chrome/44.0.2403.157 Safari/537.36\",\n",
    "\"Mozilla/5.0 (Macintosh; Intel Mac OS X 10_8_4) AppleWebKit/536.30.1 (KHTML, like Gecko) Version/6.0.5 Safari/536.30.1\",\n",
    "\"Mozilla/5.0 (Windows NT 6.1; WOW64) AppleWebKit/537.36 (KHTML, like Gecko) Chrome/44.0.2403.125 Safari/537.36\",\n",
    "\"Mozilla/5.0 (Macintosh; Intel Mac OS X 10_7_5) AppleWebKit/537.36 (KHTML, like Gecko) Chrome/44.0.2403.157 Safari/537.36\",\n",
    "\"Mozilla/5.0 (Linux; U; Android 4.4.3; en-us; KFSAWI Build/KTU84M) AppleWebKit/537.36 (KHTML, like Gecko) Silk/3.68 like Chrome/39.0.2171.93 Safari/537.36\",\n",
    "\"Mozilla/5.0 (Windows NT 10.0; WOW64) AppleWebKit/537.36 (KHTML, like Gecko) Chrome/41.0.2272.104 AOL/9.8 AOLBuild/4346.13.US Safari/537.36\",\n",
    "\"Mozilla/5.0 (Windows NT 6.1; WOW64; Trident/7.0; MAAU; rv:11.0) like Gecko\",\n",
    "\"Mozilla/5.0 (Windows NT 6.1) AppleWebKit/537.36 (KHTML, like Gecko) Chrome/42.0.2311.152 Safari/537.36\",\n",
    "\"Mozilla/4.0 (compatible; MSIE 8.0; Windows NT 6.1; Trident/4.0; SLCC2; .NET CLR 2.0.50727; .NET CLR 3.5.30729; .NET CLR 3.0.30729; Media Center PC 6.0; .NET4.0C; .NET4.0E)\",\n",
    "\"Mozilla/5.0 (Windows NT 6.1; WOW64; rv:35.0) Gecko/20100101 Firefox/35.0\",\n",
    "\"Mozilla/5.0 (Windows NT 6.1; WOW64) AppleWebKit/537.36 (KHTML, like Gecko) Chrome/43.0.2357.132 Safari/537.36\",\n",
    "\"Mozilla/5.0 (Windows NT 6.1; WOW64) AppleWebKit/537.36 (KHTML, like Gecko) Chrome/42.0.2311.90 Safari/537.36\",\n",
    "\"Mozilla/5.0 (Macintosh; Intel Mac OS X 10_9_2) AppleWebKit/537.74.9 (KHTML, like Gecko) Version/7.0.2 Safari/537.74.9\",\n",
    "\"Mozilla/5.0 (Macintosh; Intel Mac OS X 10_8_5) AppleWebKit/537.36 (KHTML, like Gecko) Chrome/44.0.2403.157 Safari/537.36\"]"
   ]
  },
  {
   "cell_type": "code",
   "execution_count": 344,
   "id": "a9f6f115",
   "metadata": {},
   "outputs": [],
   "source": [
    "def load_page(next_url):\n",
    "    headers = {\n",
    "        'User-Agent': random.choice(user_agents)\n",
    "    }\n",
    "    response = requests.get(next_url, headers=headers)\n",
    "    soup = BeautifulSoup(response.content, 'html.parser')\n",
    "    target_header = soup.find(\"h2\", string=\"Recommended Reviews\")\n",
    "    blocked = soup.find(\"h1\", string=\"This page is not available\")\n",
    "    \n",
    "    if target_header is None:\n",
    "        print(f\"Could not find the target header on page: {next_url}\")\n",
    "        if blocked:\n",
    "            print(\"Blocked\")\n",
    "        return\n",
    "    \n",
    "    ul_tags = target_header.find_next('ul', class_='list__09f24__ynIEd')\n",
    "    \n",
    "    if ul_tags is None:\n",
    "        print(f\"Could not find the ul tags on page: {next_url}\")\n",
    "        return\n",
    "    \n",
    "    li_tags = ul_tags.find_all('li')\n",
    "    li_tags = li_tags[:-1]\n",
    "    \n",
    "    for li_tag in li_tags:\n",
    "        name = li_tag.find_next('span')\n",
    "        rating = li_tag.find_next('div', attrs={'role': 'img'})\n",
    "        date_t = rating.find_next('span')\n",
    "        review_t = date_t.find_next('span', class_=re.compile(r'^raw*'))\n",
    "        reviews.append([name.get_text(), rating.get('aria-label'), date_t.get_text(), review_t.get_text()])\n",
    "        time.sleep(3)\n"
   ]
  },
  {
   "cell_type": "code",
   "execution_count": 345,
   "id": "5fa0a49a",
   "metadata": {},
   "outputs": [
    {
     "name": "stdout",
     "output_type": "stream",
     "text": [
      "Could not find the target header on page: https://www.yelp.com/biz/fog-harbor-fish-house-san-francisco-2\n",
      "Blocked\n",
      "Could not find the target header on page: https://www.yelp.com/biz/fog-harbor-fish-house-san-francisco-2?start=10\n",
      "Blocked\n"
     ]
    }
   ],
   "source": [
    "main_url = \"https://www.yelp.com/biz/fog-harbor-fish-house-san-francisco-2\"\n",
    "load_page(main_url)\n",
    "for n in range(1, 2):\n",
    "    code_word = \"?start=\" + str(n) + \"0\"\n",
    "    load_page(main_url + code_word)"
   ]
  },
  {
   "cell_type": "code",
   "execution_count": 323,
   "id": "ce49d05f",
   "metadata": {},
   "outputs": [],
   "source": [
    "file_path = 'output.csv'\n",
    "with open(file_path, 'w', newline='') as file:\n",
    "    writer = csv.writer(file)\n",
    "    writer.writerows(reviews)"
   ]
  },
  {
   "cell_type": "code",
   "execution_count": 342,
   "id": "fe7a7dbe",
   "metadata": {},
   "outputs": [
    {
     "data": {
      "text/plain": [
       "[['Name', 'Rating', 'Date', 'Review']]"
      ]
     },
     "execution_count": 342,
     "metadata": {},
     "output_type": "execute_result"
    }
   ],
   "source": [
    "reviews"
   ]
  },
  {
   "cell_type": "code",
   "execution_count": null,
   "id": "cef98800",
   "metadata": {},
   "outputs": [],
   "source": []
  }
 ],
 "metadata": {
  "kernelspec": {
   "display_name": "Python 3 (ipykernel)",
   "language": "python",
   "name": "python3"
  },
  "language_info": {
   "codemirror_mode": {
    "name": "ipython",
    "version": 3
   },
   "file_extension": ".py",
   "mimetype": "text/x-python",
   "name": "python",
   "nbconvert_exporter": "python",
   "pygments_lexer": "ipython3",
   "version": "3.10.0"
  }
 },
 "nbformat": 4,
 "nbformat_minor": 5
}
