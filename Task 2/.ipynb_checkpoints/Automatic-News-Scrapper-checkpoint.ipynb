{
 "cells": [
  {
   "cell_type": "markdown",
   "id": "65ffb055-e952-40d3-8c2e-416ab3666882",
   "metadata": {},
   "source": [
    "*Importing Libraries*"
   ]
  },
  {
   "cell_type": "code",
   "execution_count": 1,
   "id": "00ce9199",
   "metadata": {},
   "outputs": [],
   "source": [
    "import feedparser\n",
    "from newspaper import Article\n",
    "import pandas as pd"
   ]
  },
  {
   "cell_type": "markdown",
   "id": "ccefd821-189d-46f6-958f-5f1527f9294f",
   "metadata": {},
   "source": [
    "*Function to parse **RSS feed** and extract info*"
   ]
  },
  {
   "cell_type": "code",
   "execution_count": 42,
   "id": "e89aa44d",
   "metadata": {},
   "outputs": [],
   "source": [
    "def parse_rss_and_extract_info(rss_urls):\n",
    "    # List to hold article data\n",
    "    articles_info = []\n",
    "    \n",
    "    for rss_url in rss_urls:\n",
    "        # Parse the RSS feed\n",
    "        feed = feedparser.parse(rss_url)\n",
    "        \n",
    "        for entry in feed.entries:\n",
    "            article_url = entry.link\n",
    "            \n",
    "            # Download and parse the article\n",
    "            article = Article(article_url)\n",
    "            article.download()\n",
    "            article.parse()\n",
    "            \n",
    "            # Extract relevant information\n",
    "            title = article.title\n",
    "            author = ', '.join(article.authors) if article.authors else 'Unknown'\n",
    "            publish_date = article.publish_date\n",
    "            content = article.text\n",
    "            \n",
    "            # Store the information in a dictionary\n",
    "            article_data = {\n",
    "                'title': title,\n",
    "                'author': author,\n",
    "                'publish_date': publish_date,\n",
    "                'content': content\n",
    "            }\n",
    "            \n",
    "            # Add to the list of articles\n",
    "            articles_info.append(article_data)\n",
    "    \n",
    "    # Convert the list of dictionaries to a DataFrame\n",
    "    df = pd.DataFrame(articles_info)\n",
    "    df['author'] = df['author'].apply(lambda x: x.split(',')[0] if ',' in x else x)\n",
    "    \n",
    "    return df"
   ]
  },
  {
   "cell_type": "markdown",
   "id": "7634d8f5-fc99-4038-8c49-0056bc1ebb39",
   "metadata": {},
   "source": [
    "*function to save the dataframe to a CSV file*"
   ]
  },
  {
   "cell_type": "code",
   "execution_count": 43,
   "id": "6312118c",
   "metadata": {},
   "outputs": [],
   "source": [
    "def save_to_csv(df, filename):\n",
    "    # Save DataFrame to a CSV file\n",
    "    df.to_csv(filename, index=False)"
   ]
  },
  {
   "cell_type": "markdown",
   "id": "d317f515-8b31-4d81-9722-0649465188b8",
   "metadata": {},
   "source": [
    "*Main function*"
   ]
  },
  {
   "cell_type": "code",
   "execution_count": 44,
   "id": "3e73a779",
   "metadata": {},
   "outputs": [],
   "source": [
    "rss_urls = [\n",
    "    'https://indianexpress.com/feed/',\n",
    "    'https://feeds.bbci.co.uk/news/world/rss.xml',\n",
    "    'https://feeds.reuters.com/reuters/topNews',\n",
    "    'https://www.theguardian.com/world/rss'\n",
    "]\n",
    "articles_df = parse_rss_and_extract_info(rss_urls)\n",
    "save_to_csv(articles_df, 'articles.csv')"
   ]
  }
 ],
 "metadata": {
  "kernelspec": {
   "display_name": "Python 3 (ipykernel)",
   "language": "python",
   "name": "python3"
  },
  "language_info": {
   "codemirror_mode": {
    "name": "ipython",
    "version": 3
   },
   "file_extension": ".py",
   "mimetype": "text/x-python",
   "name": "python",
   "nbconvert_exporter": "python",
   "pygments_lexer": "ipython3",
   "version": "3.12.6"
  }
 },
 "nbformat": 4,
 "nbformat_minor": 5
}
